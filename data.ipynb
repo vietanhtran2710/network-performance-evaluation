{
 "cells": [
  {
   "cell_type": "code",
   "execution_count": 1,
   "metadata": {},
   "outputs": [],
   "source": [
    "with open(\"out.tf\", \"r\") as f:\n",
    "    data = f.readlines()"
   ]
  },
  {
   "cell_type": "code",
   "execution_count": 2,
   "metadata": {},
   "outputs": [],
   "source": [
    "EVENT, TIME, FROM_NODE, TO_NODE, PACKET_TYPE, PACKET_SIZE, FLAGS, FID, SOURCE_ADDRESS, DST_ADDRESS, SEQ_NUM, PKT_ID = [i for i in range(12)]"
   ]
  },
  {
   "cell_type": "code",
   "execution_count": 3,
   "metadata": {},
   "outputs": [],
   "source": [
    "def filterPackets(data, condition):\n",
    "    result = []\n",
    "    for line in data:\n",
    "        items = line.split()\n",
    "        conditionSatisfied = True\n",
    "        for key, value in condition.items():\n",
    "            if items[key] != value:\n",
    "                conditionSatisfied = False\n",
    "                break\n",
    "        if conditionSatisfied:\n",
    "            result.append(items)\n",
    "    return result"
   ]
  },
  {
   "cell_type": "code",
   "execution_count": 4,
   "metadata": {},
   "outputs": [],
   "source": [
    "def getTotalPacketsSize(connection):\n",
    "    return sum([int(packets[PACKET_SIZE]) for packets in connection])"
   ]
  },
  {
   "cell_type": "code",
   "execution_count": 5,
   "metadata": {},
   "outputs": [
    {
     "name": "stdout",
     "output_type": "stream",
     "text": [
      "Average Throughput of TCP0: 110384.0\n",
      "Average Throughput of TCP1: 38564.0\n",
      "Average Throughput of TCP2: 35432.0\n",
      "Average Throughput of UDP: 128000.0\n"
     ]
    }
   ],
   "source": [
    "tcp0Condition = {TO_NODE: '5', EVENT: 'r'}\n",
    "tcp1Condition = {TO_NODE: '6', EVENT: 'r', PACKET_TYPE: 'tcp'}\n",
    "tcp2Condition = {TO_NODE: '7', EVENT: 'r'}\n",
    "udpCondition = {TO_NODE: '6', EVENT: 'r', PACKET_TYPE: 'cbr'}\n",
    "ack0Condition = {FROM_NODE: '5', TO_NODE: '4', EVENT: '+'}\n",
    "ack1Condition = {FROM_NODE: '6', TO_NODE: '4', EVENT: '+'}\n",
    "ack2Condition = {FROM_NODE: '7', TO_NODE: '4', EVENT: '+'}\n",
    "tcp0PacketSum = getTotalPacketsSize(filterPackets(data, tcp0Condition))\n",
    "tcp1PacketSum = getTotalPacketsSize(filterPackets(data, tcp1Condition))\n",
    "tcp2PacketSum = getTotalPacketsSize(filterPackets(data, tcp2Condition))\n",
    "ack0PacketSum = getTotalPacketsSize(filterPackets(data, ack0Condition))\n",
    "ack1PacketSum = getTotalPacketsSize(filterPackets(data, ack1Condition))\n",
    "ack2PacketSum = getTotalPacketsSize(filterPackets(data, ack2Condition))\n",
    "udpPacketSum = getTotalPacketsSize(filterPackets(data, udpCondition))\n",
    "print(\"Average Throughput of TCP0:\", (tcp0PacketSum + ack0PacketSum) / 10)\n",
    "print(\"Average Throughput of TCP1:\", (tcp1PacketSum + ack1PacketSum) / 10)\n",
    "print(\"Average Throughput of TCP2:\", (tcp2PacketSum + ack2PacketSum) / 10)\n",
    "print(\"Average Throughput of UDP:\", udpPacketSum / 1)"
   ]
  },
  {
   "cell_type": "code",
   "execution_count": 6,
   "metadata": {},
   "outputs": [],
   "source": [
    "def getDelayAndAmount(data, startCondition, endCondition):\n",
    "    sentPackets = filterPackets(data, startCondition)\n",
    "    startTime = {}\n",
    "    for item in sentPackets:\n",
    "        startTime[item[PKT_ID]] = float(item[TIME])\n",
    "    receivedPackets = filterPackets(data, endCondition)\n",
    "    totalDelay = 0\n",
    "    for item in receivedPackets:\n",
    "        totalDelay += float(item[TIME]) - startTime[item[PKT_ID]]\n",
    "    return len(receivedPackets), totalDelay"
   ]
  },
  {
   "cell_type": "code",
   "execution_count": 8,
   "metadata": {},
   "outputs": [
    {
     "name": "stdout",
     "output_type": "stream",
     "text": [
      "Average Delay of TCP0: 0.11958738074291253\n",
      "Average Delay of TCP1: 0.12892446508379893\n",
      "Average Delay of TCP2: 0.37184769148936025\n",
      "Average Delay of UDP: 0.29460734375\n"
     ]
    }
   ],
   "source": [
    "tcp0Count, tcp0Delay = getDelayAndAmount(data, {FROM_NODE: '0', TO_NODE: '3', EVENT: '+'}, {FROM_NODE: '4', TO_NODE: '5', EVENT: 'r'})\n",
    "ack0Count, ack0Delay = getDelayAndAmount(data, {FROM_NODE: '5', TO_NODE: '4', EVENT: '+'}, {FROM_NODE: '3', TO_NODE: '0', EVENT: 'r'})\n",
    "print(\"Average Delay of TCP0:\", (tcp0Delay + ack0Delay) / (tcp0Count + ack0Count))\n",
    "\n",
    "tcp1Count, tcp1Delay = getDelayAndAmount(data, {FROM_NODE: '1', TO_NODE: '3', EVENT: '+', PACKET_TYPE: 'tcp'}, {FROM_NODE: '4', TO_NODE: '6', EVENT: 'r', PACKET_TYPE: 'tcp'})\n",
    "ack1Count, ack1Delay = getDelayAndAmount(data, {FROM_NODE: '6', TO_NODE: '4', EVENT: '+'}, {FROM_NODE: '3', TO_NODE: '1', EVENT: 'r'})\n",
    "print(\"Average Delay of TCP1:\", (tcp1Delay + ack1Delay) / (tcp1Count + ack1Count))\n",
    "\n",
    "tcp2Count, tcp2Delay = getDelayAndAmount(data, {FROM_NODE: '2', TO_NODE: '3', EVENT: '+'}, {FROM_NODE: '4', TO_NODE: '7', EVENT: 'r'})\n",
    "ack2Count, ack2Delay = getDelayAndAmount(data, {FROM_NODE: '7', TO_NODE: '4', EVENT: '+'}, {FROM_NODE: '3', TO_NODE: '2', EVENT: 'r'})\n",
    "print(\"Average Delay of TCP2:\", (tcp0Delay + ack0Delay) / (tcp2Count + ack2Count))\n",
    "\n",
    "udpCount, udpDelay = getDelayAndAmount(data, {FROM_NODE: '1', TO_NODE: '3', EVENT: '+', PACKET_TYPE: 'cbr'}, {FROM_NODE: '4', TO_NODE: '6', EVENT: 'r', PACKET_TYPE: 'cbr'})\n",
    "print(\"Average Delay of UDP:\", udpDelay / udpCount)"
   ]
  },
  {
   "cell_type": "code",
   "execution_count": null,
   "metadata": {},
   "outputs": [],
   "source": []
  }
 ],
 "metadata": {
  "interpreter": {
   "hash": "31f2aee4e71d21fbe5cf8b01ff0e069b9275f58929596ceb00d14d90e3e16cd6"
  },
  "kernelspec": {
   "display_name": "Python 3.8.10 64-bit",
   "language": "python",
   "name": "python3"
  },
  "language_info": {
   "codemirror_mode": {
    "name": "ipython",
    "version": 3
   },
   "file_extension": ".py",
   "mimetype": "text/x-python",
   "name": "python",
   "nbconvert_exporter": "python",
   "pygments_lexer": "ipython3",
   "version": "3.8.10"
  },
  "orig_nbformat": 4
 },
 "nbformat": 4,
 "nbformat_minor": 2
}
