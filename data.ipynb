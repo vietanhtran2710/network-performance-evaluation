{
 "cells": [
  {
   "cell_type": "code",
   "execution_count": 1,
   "metadata": {},
   "outputs": [],
   "source": [
    "with open(\"out.tf\", \"r\") as f:\n",
    "    data = f.readlines()"
   ]
  },
  {
   "cell_type": "code",
   "execution_count": 2,
   "metadata": {},
   "outputs": [],
   "source": [
    "EVENT, TIME, FROM_NODE, TO_NODE, PACKET_TYPE, PACKET_SIZE, FLAGS, FID, SOURCE_ADDRESS, DST_ADDRESS, SEQ_NUM, PKT_ID = [i for i in range(12)]"
   ]
  },
  {
   "cell_type": "code",
   "execution_count": 3,
   "metadata": {},
   "outputs": [],
   "source": [
    "def filterPackets(data, condition):\n",
    "    result = []\n",
    "    for line in data:\n",
    "        items = line.split()\n",
    "        conditionSatisfied = True\n",
    "        for key, value in condition.items():\n",
    "            if items[key] != value:\n",
    "                conditionSatisfied = False\n",
    "                break\n",
    "        if conditionSatisfied:\n",
    "            result.append(items)\n",
    "    return result"
   ]
  },
  {
   "cell_type": "code",
   "execution_count": 4,
   "metadata": {},
   "outputs": [],
   "source": [
    "def getTotalPacketsSize(connection):\n",
    "    return sum([int(packets[PACKET_SIZE]) for packets in connection])"
   ]
  },
  {
   "cell_type": "code",
   "execution_count": 5,
   "metadata": {},
   "outputs": [
    {
     "name": "stdout",
     "output_type": "stream",
     "text": [
      "Average Throughput of TCP0: 106292.0\n",
      "Average Throughput of TCP1: 37132.0\n",
      "Average Throughput of TCP2: 34116.0\n",
      "Average Throughput of UDP: 128000.0\n"
     ]
    }
   ],
   "source": [
    "tcp0Condition = {TO_NODE: '5', EVENT: 'r'}\n",
    "tcp1Condition = {TO_NODE: '6', EVENT: 'r', PACKET_TYPE: 'tcp'}\n",
    "tcp2Condition = {TO_NODE: '7', EVENT: 'r'}\n",
    "udpCondition = {TO_NODE: '6', EVENT: 'r', PACKET_TYPE: 'cbr'}\n",
    "tcp0PacketSum = getTotalPacketsSize(filterPackets(data, tcp0Condition))\n",
    "tcp1PacketSum = getTotalPacketsSize(filterPackets(data, tcp1Condition))\n",
    "tcp2PacketSum = getTotalPacketsSize(filterPackets(data, tcp2Condition))\n",
    "udpPacketSum = getTotalPacketsSize(filterPackets(data, udpCondition))\n",
    "print(\"Average Throughput of TCP0:\", tcp0PacketSum / 10)\n",
    "print(\"Average Throughput of TCP1:\", tcp1PacketSum / 10)\n",
    "print(\"Average Throughput of TCP2:\", tcp2PacketSum / 10)\n",
    "print(\"Average Throughput of UDP:\", udpPacketSum / 1)"
   ]
  },
  {
   "cell_type": "code",
   "execution_count": 6,
   "metadata": {},
   "outputs": [],
   "source": [
    "def getAverageDelay(data, startCondition, endCondition):\n",
    "    firstSentPackets = filterPackets(data, startCondition)\n",
    "    startTime = {}\n",
    "    for item in firstSentPackets:\n",
    "        startTime[item[PKT_ID]] = float(item[TIME])\n",
    "    lastReceivedPackets = filterPackets(data, endCondition)\n",
    "    totalDelay = 0\n",
    "    for item in lastReceivedPackets:\n",
    "        totalDelay += float(item[TIME]) - startTime[item[PKT_ID]]\n",
    "    return totalDelay / len(lastReceivedPackets)"
   ]
  },
  {
   "cell_type": "code",
   "execution_count": 7,
   "metadata": {},
   "outputs": [
    {
     "name": "stdout",
     "output_type": "stream",
     "text": [
      "Average Delay of TCP0: 0.21389742521994065\n",
      "Average Delay of TCP1: 0.23257158938547495\n",
      "Average Delay of TCP2: 0.18002489057750753\n",
      "Average Delay of UDP: 0.29460734375\n"
     ]
    }
   ],
   "source": [
    "print(\"Average Delay of TCP0:\", getAverageDelay(data, {FROM_NODE: '0', TO_NODE: '3', EVENT: '+'}, {FROM_NODE: '4', TO_NODE: '5', EVENT: 'r'}))\n",
    "print(\"Average Delay of TCP1:\", getAverageDelay(data, {FROM_NODE: '1', TO_NODE: '3', EVENT: '+', PACKET_TYPE: 'tcp'}, {FROM_NODE: '4', TO_NODE: '6', EVENT: 'r', PACKET_TYPE: 'tcp'}))\n",
    "print(\"Average Delay of TCP2:\", getAverageDelay(data, {FROM_NODE: '2', TO_NODE: '3', EVENT: '+'}, {FROM_NODE: '4', TO_NODE: '7', EVENT: 'r'}))\n",
    "print(\"Average Delay of UDP:\", getAverageDelay(data, {FROM_NODE: '1', TO_NODE: '3', EVENT: '+', PACKET_TYPE: 'cbr'}, {FROM_NODE: '4', TO_NODE: '6', EVENT: 'r', PACKET_TYPE: 'cbr'}))"
   ]
  },
  {
   "cell_type": "code",
   "execution_count": null,
   "metadata": {},
   "outputs": [],
   "source": []
  }
 ],
 "metadata": {
  "interpreter": {
   "hash": "31f2aee4e71d21fbe5cf8b01ff0e069b9275f58929596ceb00d14d90e3e16cd6"
  },
  "kernelspec": {
   "display_name": "Python 3.8.10 64-bit",
   "language": "python",
   "name": "python3"
  },
  "language_info": {
   "codemirror_mode": {
    "name": "ipython",
    "version": 3
   },
   "file_extension": ".py",
   "mimetype": "text/x-python",
   "name": "python",
   "nbconvert_exporter": "python",
   "pygments_lexer": "ipython3",
   "version": "3.8.10"
  },
  "orig_nbformat": 4
 },
 "nbformat": 4,
 "nbformat_minor": 2
}
