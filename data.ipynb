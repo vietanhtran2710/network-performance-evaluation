{
 "cells": [
  {
   "cell_type": "code",
   "execution_count": 1,
   "metadata": {},
   "outputs": [
    {
     "name": "stdout",
     "output_type": "stream",
     "text": [
      "+ 0.4 0 3 tcp 40 ------- 1 0.0 5.0 0 0\n",
      "- 0.4 0 3 tcp 40 ------- 1 0.0 5.0 0 0\n",
      "r 0.405032 0 3 tcp 40 ------- 1 0.0 5.0 0 0\n",
      "+ 0.405032 3 4 tcp 40 ------- 1 0.0 5.0 0 0\n",
      "- 0.405032 3 4 tcp 40 ------- 1 0.0 5.0 0 0\n",
      "r 0.420245 3 4 tcp 40 ------- 1 0.0 5.0 0 0\n",
      "+ 0.420245 4 5 tcp 40 ------- 1 0.0 5.0 0 0\n",
      "- 0.420245 4 5 tcp 40 ------- 1 0.0 5.0 0 0\n",
      "r 0.425277 4 5 tcp 40 ------- 1 0.0 5.0 0 0\n",
      "+ 0.425277 5 4 ack 40 ------- 1 5.0 0.0 0 1\n"
     ]
    }
   ],
   "source": [
    "with open(\"out.tf\", \"r\") as f:\n",
    "    data = f.readlines()\n",
    "for line in data[:10]:\n",
    "    print(line.strip())"
   ]
  },
  {
   "cell_type": "code",
   "execution_count": 2,
   "metadata": {},
   "outputs": [],
   "source": [
    "EVENT = 0\n",
    "TIME = 1\n",
    "FROM_NODE = 2\n",
    "TO_NODE = 3\n",
    "PACKET_TYPE = 4\n",
    "PACKET_SIZE = 5"
   ]
  },
  {
   "cell_type": "markdown",
   "metadata": {},
   "source": [
    "event time from_node to_node pkt_type pkt_size flags fid src_addr st_addr seq_num pkt_id"
   ]
  },
  {
   "cell_type": "code",
   "execution_count": 3,
   "metadata": {},
   "outputs": [
    {
     "name": "stdout",
     "output_type": "stream",
     "text": [
      "3794040\n",
      "10.294909\n",
      "FTP0/TCP0 Throughput: 368535.5548067496\n"
     ]
    }
   ],
   "source": [
    "# ftp0/tcp0\n",
    "ftpPackets0, packetSizeSum0, foundFirstPacket = [], 0, False\n",
    "for line in data:\n",
    "    items = line.strip().split()\n",
    "    if items[TO_NODE] == '5':\n",
    "        ftpPackets0.append(items)\n",
    "        packetSizeSum0 += int(items[PACKET_SIZE])\n",
    "    elif not foundFirstPacket:\n",
    "        if items[FROM_NODE] == '0':\n",
    "            startTime = items[TIME]\n",
    "            foundFirstPacket = True\n",
    "print(packetSizeSum0)\n",
    "time0 = float(ftpPackets0[-1][TIME]) - float(startTime)\n",
    "print(time0)\n",
    "print(\"FTP0/TCP0 Throughput:\", packetSizeSum0 / time0)"
   ]
  },
  {
   "cell_type": "code",
   "execution_count": 4,
   "metadata": {},
   "outputs": [
    {
     "name": "stdout",
     "output_type": "stream",
     "text": [
      "1229400\n",
      "10.072723\n",
      "FTP1/TCP1 Throughput: 122052.39834352638\n"
     ]
    }
   ],
   "source": [
    "# ftp1/tcp1\n",
    "ftpPackets1, packetSizeSum1, foundFirstPacket1 = [], 0, False\n",
    "for line in data:\n",
    "    items = line.strip().split()\n",
    "    if items[TO_NODE] == '6' and items[PACKET_TYPE] == 'tcp':\n",
    "        ftpPackets1.append(items)\n",
    "        packetSizeSum1 += int(items[PACKET_SIZE])\n",
    "    elif not foundFirstPacket1:\n",
    "        if items[FROM_NODE] == '1':\n",
    "            startTime1 = items[TIME]\n",
    "            foundFirstPacket1 = True\n",
    "print(packetSizeSum1)\n",
    "time1 = float(ftpPackets1[-1][TIME]) - float(startTime1)\n",
    "print(time1)\n",
    "print(\"FTP1/TCP1 Throughput:\", packetSizeSum1 / time1)"
   ]
  },
  {
   "cell_type": "code",
   "execution_count": 5,
   "metadata": {},
   "outputs": [
    {
     "ename": "ValueError",
     "evalue": "not enough values to unpack (expected 3, got 2)",
     "output_type": "error",
     "traceback": [
      "\u001b[0;31m---------------------------------------------------------------------------\u001b[0m",
      "\u001b[0;31mValueError\u001b[0m                                Traceback (most recent call last)",
      "\u001b[0;32m/tmp/ipykernel_35668/418301132.py\u001b[0m in \u001b[0;36m<module>\u001b[0;34m\u001b[0m\n\u001b[1;32m      1\u001b[0m \u001b[0;31m# ftp2/tcp2\u001b[0m\u001b[0;34m\u001b[0m\u001b[0;34m\u001b[0m\u001b[0;34m\u001b[0m\u001b[0m\n\u001b[0;32m----> 2\u001b[0;31m \u001b[0mftpPackets2\u001b[0m\u001b[0;34m,\u001b[0m \u001b[0mpacketSizeSum2\u001b[0m\u001b[0;34m,\u001b[0m \u001b[0mfoundFirstPacket2\u001b[0m \u001b[0;34m=\u001b[0m \u001b[0;34m[\u001b[0m\u001b[0;34m]\u001b[0m\u001b[0;34m,\u001b[0m \u001b[0;36m0\u001b[0m\u001b[0;34m\u001b[0m\u001b[0;34m\u001b[0m\u001b[0m\n\u001b[0m\u001b[1;32m      3\u001b[0m \u001b[0;32mfor\u001b[0m \u001b[0mline\u001b[0m \u001b[0;32min\u001b[0m \u001b[0mdata\u001b[0m\u001b[0;34m:\u001b[0m\u001b[0;34m\u001b[0m\u001b[0;34m\u001b[0m\u001b[0m\n\u001b[1;32m      4\u001b[0m     \u001b[0mitems\u001b[0m \u001b[0;34m=\u001b[0m \u001b[0mline\u001b[0m\u001b[0;34m.\u001b[0m\u001b[0mstrip\u001b[0m\u001b[0;34m(\u001b[0m\u001b[0;34m)\u001b[0m\u001b[0;34m.\u001b[0m\u001b[0msplit\u001b[0m\u001b[0;34m(\u001b[0m\u001b[0;34m)\u001b[0m\u001b[0;34m\u001b[0m\u001b[0;34m\u001b[0m\u001b[0m\n\u001b[1;32m      5\u001b[0m     \u001b[0;32mif\u001b[0m \u001b[0mitems\u001b[0m\u001b[0;34m[\u001b[0m\u001b[0mTO_NODE\u001b[0m\u001b[0;34m]\u001b[0m \u001b[0;34m==\u001b[0m \u001b[0;34m'7'\u001b[0m\u001b[0;34m:\u001b[0m\u001b[0;34m\u001b[0m\u001b[0;34m\u001b[0m\u001b[0m\n",
      "\u001b[0;31mValueError\u001b[0m: not enough values to unpack (expected 3, got 2)"
     ]
    }
   ],
   "source": [
    "# ftp2/tcp2\n",
    "ftpPackets2, packetSizeSum2, foundFirstPacket2 = [], 0, False\n",
    "for line in data:\n",
    "    items = line.strip().split()\n",
    "    if items[TO_NODE] == '7':\n",
    "        ftpPackets2.append(items)\n",
    "        packetSizeSum2 += int(items[PACKET_SIZE])\n",
    "    elif not foundFirstPacket2:\n",
    "        if items[FROM_NODE] == '1':\n",
    "            startTime2 = items[TIME]\n",
    "            foundFirstPacket2 = True\n",
    "print(packetSizeSum2)\n",
    "time2 = float(ftpPackets2[-1][TIME]) - float(startTime2)\n",
    "print(time2)\n",
    "print(\"FTP1/TCP1 Throughput:\", packetSizeSum2 / time2)"
   ]
  },
  {
   "cell_type": "code",
   "execution_count": null,
   "metadata": {},
   "outputs": [
    {
     "name": "stdout",
     "output_type": "stream",
     "text": [
      "0\n"
     ]
    },
    {
     "ename": "IndexError",
     "evalue": "list index out of range",
     "output_type": "error",
     "traceback": [
      "\u001b[0;31m---------------------------------------------------------------------------\u001b[0m",
      "\u001b[0;31mIndexError\u001b[0m                                Traceback (most recent call last)",
      "\u001b[0;32m/tmp/ipykernel_34918/293224110.py\u001b[0m in \u001b[0;36m<module>\u001b[0;34m\u001b[0m\n\u001b[1;32m      7\u001b[0m         \u001b[0mudpSizeSum\u001b[0m \u001b[0;34m+=\u001b[0m \u001b[0mint\u001b[0m\u001b[0;34m(\u001b[0m\u001b[0mitems\u001b[0m\u001b[0;34m[\u001b[0m\u001b[0mPACKET_SIZE\u001b[0m\u001b[0;34m]\u001b[0m\u001b[0;34m)\u001b[0m\u001b[0;34m\u001b[0m\u001b[0;34m\u001b[0m\u001b[0m\n\u001b[1;32m      8\u001b[0m \u001b[0mprint\u001b[0m\u001b[0;34m(\u001b[0m\u001b[0mudpSizeSum\u001b[0m\u001b[0;34m)\u001b[0m\u001b[0;34m\u001b[0m\u001b[0;34m\u001b[0m\u001b[0m\n\u001b[0;32m----> 9\u001b[0;31m \u001b[0mtimeUDP\u001b[0m \u001b[0;34m=\u001b[0m \u001b[0mfloat\u001b[0m\u001b[0;34m(\u001b[0m\u001b[0mudpPackets\u001b[0m\u001b[0;34m[\u001b[0m\u001b[0;34m-\u001b[0m\u001b[0;36m1\u001b[0m\u001b[0;34m]\u001b[0m\u001b[0;34m[\u001b[0m\u001b[0mTIME\u001b[0m\u001b[0;34m]\u001b[0m\u001b[0;34m)\u001b[0m \u001b[0;34m-\u001b[0m \u001b[0mfloat\u001b[0m\u001b[0;34m(\u001b[0m\u001b[0mudpPackets\u001b[0m\u001b[0;34m[\u001b[0m\u001b[0;36m0\u001b[0m\u001b[0;34m]\u001b[0m\u001b[0;34m[\u001b[0m\u001b[0mTIME\u001b[0m\u001b[0;34m]\u001b[0m\u001b[0;34m)\u001b[0m\u001b[0;34m\u001b[0m\u001b[0;34m\u001b[0m\u001b[0m\n\u001b[0m\u001b[1;32m     10\u001b[0m \u001b[0mprint\u001b[0m\u001b[0;34m(\u001b[0m\u001b[0mtimeUDP\u001b[0m\u001b[0;34m)\u001b[0m\u001b[0;34m\u001b[0m\u001b[0;34m\u001b[0m\u001b[0m\n\u001b[1;32m     11\u001b[0m \u001b[0mprint\u001b[0m\u001b[0;34m(\u001b[0m\u001b[0;34m\"FTP1/TCP1 Throughput:\"\u001b[0m\u001b[0;34m,\u001b[0m \u001b[0mudpSizeSum\u001b[0m \u001b[0;34m/\u001b[0m \u001b[0mtimeUDP\u001b[0m\u001b[0;34m)\u001b[0m\u001b[0;34m\u001b[0m\u001b[0;34m\u001b[0m\u001b[0m\n",
      "\u001b[0;31mIndexError\u001b[0m: list index out of range"
     ]
    }
   ],
   "source": [
    "# cbr/udp\n",
    "# udpPackets, udpSizeSum = [], 0\n",
    "# for line in data:\n",
    "#     items = line.strip().split()\n",
    "#     if items[TO_NODE] == '6' and items[PACKET_TYPE] == 'cbr':\n",
    "#         udpPackets.append(items)\n",
    "#         udpSizeSum += int(items[PACKET_SIZE])\n",
    "# print(udpSizeSum)\n",
    "# timeUDP = float(udpPackets[-1][TIME]) - float(udpPackets[0][TIME])\n",
    "# print(timeUDP)\n",
    "# print(\"FTP1/TCP1 Throughput:\", udpSizeSum / timeUDP)"
   ]
  }
 ],
 "metadata": {
  "interpreter": {
   "hash": "31f2aee4e71d21fbe5cf8b01ff0e069b9275f58929596ceb00d14d90e3e16cd6"
  },
  "kernelspec": {
   "display_name": "Python 3.8.10 64-bit",
   "language": "python",
   "name": "python3"
  },
  "language_info": {
   "codemirror_mode": {
    "name": "ipython",
    "version": 3
   },
   "file_extension": ".py",
   "mimetype": "text/x-python",
   "name": "python",
   "nbconvert_exporter": "python",
   "pygments_lexer": "ipython3",
   "version": "3.8.10"
  },
  "orig_nbformat": 4
 },
 "nbformat": 4,
 "nbformat_minor": 2
}
