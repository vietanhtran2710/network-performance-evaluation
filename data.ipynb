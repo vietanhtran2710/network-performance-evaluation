{
 "cells": [
  {
   "cell_type": "code",
   "execution_count": 1,
   "metadata": {},
   "outputs": [],
   "source": [
    "with open(\"out.tf\", \"r\") as f:\n",
    "    data = f.readlines()"
   ]
  },
  {
   "cell_type": "code",
   "execution_count": 2,
   "metadata": {},
   "outputs": [],
   "source": [
    "EVENT, TIME, FROM_NODE, TO_NODE, PACKET_TYPE, PACKET_SIZE, FLAGS, FID, SOURCE_ADDRESS, DST_ADDRESS, SEQ_NUM, PKT_ID = [i for i in range(12)]"
   ]
  },
  {
   "cell_type": "code",
   "execution_count": 3,
   "metadata": {},
   "outputs": [],
   "source": [
    "def filterPackets(data, condition):\n",
    "    result = []\n",
    "    for line in data:\n",
    "        items = line.split()\n",
    "        conditionSatisfied = True\n",
    "        for key, value in condition.items():\n",
    "            if items[key] != value:\n",
    "                conditionSatisfied = False\n",
    "                break\n",
    "        if conditionSatisfied:\n",
    "            result.append(items)\n",
    "    return result"
   ]
  },
  {
   "cell_type": "code",
   "execution_count": 4,
   "metadata": {},
   "outputs": [],
   "source": [
    "def getTotalPacketsSize(connection):\n",
    "    return sum([int(packets[PACKET_SIZE]) for packets in connection])"
   ]
  },
  {
   "cell_type": "code",
   "execution_count": 7,
   "metadata": {},
   "outputs": [
    {
     "name": "stdout",
     "output_type": "stream",
     "text": [
      "Average Throughput of TCP0: 106292.0\n",
      "Average Throughput of TCP1: 37132.0\n",
      "Average Throughput of TCP2: 34116.0\n",
      "Average Throughput of UDP: 128000.0\n"
     ]
    }
   ],
   "source": [
    "ftp0Condition = {TO_NODE: '5', EVENT: 'r'}\n",
    "ftp1Condition = {TO_NODE: '6', EVENT: 'r', PACKET_TYPE: 'tcp'}\n",
    "ftp2Condition = {TO_NODE: '7', EVENT: 'r'}\n",
    "udpCondition = {TO_NODE: '6', EVENT: 'r', PACKET_TYPE: 'cbr'}\n",
    "ftp0PacketSum = getTotalPacketsSize(filterPackets(data, ftp0Condition))\n",
    "ftp1PacketSum = getTotalPacketsSize(filterPackets(data, ftp1Condition))\n",
    "ftp2PacketSum = getTotalPacketsSize(filterPackets(data, ftp2Condition))\n",
    "udpPacketSum = getTotalPacketsSize(filterPackets(data, udpCondition))\n",
    "print(\"Average Throughput of TCP0:\", ftp0PacketSum / 10)\n",
    "print(\"Average Throughput of TCP1:\", ftp1PacketSum / 10)\n",
    "print(\"Average Throughput of TCP2:\", ftp2PacketSum / 10)\n",
    "print(\"Average Throughput of UDP:\", udpPacketSum / 1)"
   ]
  },
  {
   "cell_type": "code",
   "execution_count": 16,
   "metadata": {},
   "outputs": [
    {
     "name": "stdout",
     "output_type": "stream",
     "text": [
      "Average Delay of TCP0: 0.21389742521994065\n"
     ]
    }
   ],
   "source": [
    "def getAverageDelay(data, startCondition, endCondition):\n",
    "    firstPackets = filterPackets(data, startCondition)\n",
    "    startTime = {}\n",
    "    for item in firstPackets:\n",
    "        startTime[item[PKT_ID]] = float(item[TIME])\n",
    "    lastPackets = filterPackets(data, endCondition)\n",
    "    totalDelay = 0\n",
    "    for item in lastPackets:\n",
    "        totalDelay += float(item[TIME]) - startTime[item[PKT_ID]]\n",
    "    return totalDelay / len(lastPackets)"
   ]
  },
  {
   "cell_type": "code",
   "execution_count": 17,
   "metadata": {},
   "outputs": [],
   "source": [
    "print(\"Average Delay of TCP0:\", getAverageDelay(data, {FROM_NODE: '0', TO_NODE: '3', EVENT: '+'}, {FROM_NODE: '4', TO_NODE: '5', EVENT: 'r'}))\n",
    "print(\"Average Delay of TCP1:\", getAverageDelay(data, {FROM_NODE: '0', TO_NODE: '3', EVENT: '+'}, {FROM_NODE: '4', TO_NODE: '5', EVENT: 'r'}))\n",
    "print(\"Average Delay of TCP2:\", getAverageDelay(data, {FROM_NODE: '0', TO_NODE: '3', EVENT: '+'}, {FROM_NODE: '4', TO_NODE: '5', EVENT: 'r'}))\n",
    "print(\"Average Delay of UDP:\", getAverageDelay(data, {FROM_NODE: '0', TO_NODE: '3', EVENT: '+'}, {FROM_NODE: '4', TO_NODE: '5', EVENT: 'r'}))"
   ]
  },
  {
   "cell_type": "code",
   "execution_count": null,
   "metadata": {},
   "outputs": [],
   "source": []
  }
 ],
 "metadata": {
  "interpreter": {
   "hash": "31f2aee4e71d21fbe5cf8b01ff0e069b9275f58929596ceb00d14d90e3e16cd6"
  },
  "kernelspec": {
   "display_name": "Python 3.8.10 64-bit",
   "language": "python",
   "name": "python3"
  },
  "language_info": {
   "codemirror_mode": {
    "name": "ipython",
    "version": 3
   },
   "file_extension": ".py",
   "mimetype": "text/x-python",
   "name": "python",
   "nbconvert_exporter": "python",
   "pygments_lexer": "ipython3",
   "version": "3.8.10"
  },
  "orig_nbformat": 4
 },
 "nbformat": 4,
 "nbformat_minor": 2
}
