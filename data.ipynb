{
 "cells": [
  {
   "cell_type": "code",
   "execution_count": 6,
   "metadata": {},
   "outputs": [
    {
     "name": "stdout",
     "output_type": "stream",
     "text": [
      "+ 0.4 0 3 tcp 40 ------- 1 0.0 5.0 0 0\n",
      "- 0.4 0 3 tcp 40 ------- 1 0.0 5.0 0 0\n",
      "r 0.405032 0 3 tcp 40 ------- 1 0.0 5.0 0 0\n",
      "+ 0.405032 3 4 tcp 40 ------- 1 0.0 5.0 0 0\n",
      "- 0.405032 3 4 tcp 40 ------- 1 0.0 5.0 0 0\n",
      "r 0.420245 3 4 tcp 40 ------- 1 0.0 5.0 0 0\n",
      "+ 0.420245 4 5 tcp 40 ------- 1 0.0 5.0 0 0\n",
      "- 0.420245 4 5 tcp 40 ------- 1 0.0 5.0 0 0\n",
      "r 0.425277 4 5 tcp 40 ------- 1 0.0 5.0 0 0\n",
      "+ 0.425277 5 4 ack 40 ------- 1 5.0 0.0 0 1\n"
     ]
    }
   ],
   "source": [
    "with open(\"out.tf\", \"r\") as f:\n",
    "    data = f.readlines()"
   ]
  },
  {
   "cell_type": "code",
   "execution_count": 7,
   "metadata": {},
   "outputs": [],
   "source": [
    "EVENT, TIME, FROM_NODE, TO_NODE, PACKET_TYPE, PACKET_SIZE, FLAGS, FID, SOURCE_ADDRESS, DST_ADDRESS, SEQ_NUM, PKT_ID = [i for i in range(12)]"
   ]
  },
  {
   "cell_type": "code",
   "execution_count": null,
   "metadata": {},
   "outputs": [],
   "source": [
    "def filterPackets(data, condition):\n",
    "    result = []\n",
    "    for line in data:\n",
    "        items = line.split()\n",
    "        conditionSatisfied = True\n",
    "        for key, value in condition.items():\n",
    "            if items[key] != value:\n",
    "                conditionSatisfied = False\n",
    "                break\n",
    "        if conditionSatisfied:\n",
    "            result.append(items)\n",
    "    return result"
   ]
  },
  {
   "cell_type": "code",
   "execution_count": 12,
   "metadata": {},
   "outputs": [],
   "source": [
    "def getTotalPacketsSize(connection):\n",
    "    return sum([int(packets[PACKET_SIZE]) for packets in connection])"
   ]
  },
  {
   "cell_type": "code",
   "execution_count": 9,
   "metadata": {},
   "outputs": [
    {
     "name": "stdout",
     "output_type": "stream",
     "text": [
      "1229400\n",
      "10.072723\n",
      "FTP1/TCP1 Throughput: 122052.39834352638\n"
     ]
    }
   ],
   "source": [
    "ftp0Condition = {TO_NODE: '5', EVENT: 'r'}\n",
    "ftp1Condition = {TO_NODE: '6', EVENT: 'r', PACKET_TYPE: 'tcp'}\n",
    "ftp2Condition = {TO_NODE: '7', EVENT: 'r'}\n",
    "udpCondition = {TO_NODE: '6', EVENT: 'r', PACKET_TYPE: 'udp'}\n",
    "ftp0PacketSum = getTotalPacketsSize(filterPackets(ftp0Condition))\n",
    "ftp1PacketSum = getTotalPacketsSize(filterPackets(ftp1Condition))\n",
    "ftp2PacketSum = getTotalPacketsSize(filterPackets(ftp2Condition))\n",
    "print(\"Through\", get)"
   ]
  },
  {
   "cell_type": "code",
   "execution_count": 10,
   "metadata": {},
   "outputs": [
    {
     "name": "stdout",
     "output_type": "stream",
     "text": [
      "755160\n",
      "10.244669\n",
      "FTP1/TCP1 Throughput: 73712.48402461807\n"
     ]
    }
   ],
   "source": [
    "# ftp2/tcp2\n",
    "ftpPackets2, packetSizeSum2, foundFirstPacket2 = [], 0, False\n",
    "for line in data:\n",
    "    items = line.strip().split()\n",
    "    if items[TO_NODE] == '7':\n",
    "        ftpPackets2.append(items)\n",
    "        packetSizeSum2 += int(items[PACKET_SIZE])\n",
    "    elif not foundFirstPacket2:\n",
    "        if items[FROM_NODE] == '1':\n",
    "            startTime2 = items[TIME]\n",
    "            foundFirstPacket2 = True\n",
    "print(packetSizeSum2)\n",
    "time2 = float(ftpPackets2[-1][TIME]) - float(startTime2)\n",
    "print(time2)\n",
    "print(\"FTP1/TCP1 Throughput:\", packetSizeSum2 / time2)"
   ]
  },
  {
   "cell_type": "code",
   "execution_count": 11,
   "metadata": {},
   "outputs": [],
   "source": [
    "# cbr/udp\n",
    "# udpPackets, udpSizeSum = [], 0\n",
    "# for line in data:\n",
    "#     items = line.strip().split()\n",
    "#     if items[TO_NODE] == '6' and items[PACKET_TYPE] == 'cbr':\n",
    "#         udpPackets.append(items)\n",
    "#         udpSizeSum += int(items[PACKET_SIZE])\n",
    "# print(udpSizeSum)\n",
    "# timeUDP = float(udpPackets[-1][TIME]) - float(udpPackets[0][TIME])\n",
    "# print(timeUDP)\n",
    "# print(\"FTP1/TCP1 Throughput:\", udpSizeSum / timeUDP)"
   ]
  }
 ],
 "metadata": {
  "interpreter": {
   "hash": "31f2aee4e71d21fbe5cf8b01ff0e069b9275f58929596ceb00d14d90e3e16cd6"
  },
  "kernelspec": {
   "display_name": "Python 3.8.10 64-bit",
   "language": "python",
   "name": "python3"
  },
  "language_info": {
   "codemirror_mode": {
    "name": "ipython",
    "version": 3
   },
   "file_extension": ".py",
   "mimetype": "text/x-python",
   "name": "python",
   "nbconvert_exporter": "python",
   "pygments_lexer": "ipython3",
   "version": "3.8.10"
  },
  "orig_nbformat": 4
 },
 "nbformat": 4,
 "nbformat_minor": 2
}
